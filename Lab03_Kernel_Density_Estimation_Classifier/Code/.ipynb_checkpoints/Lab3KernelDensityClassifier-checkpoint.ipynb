{
 "cells": [
  {
   "cell_type": "code",
   "execution_count": 51,
   "metadata": {
    "collapsed": false
   },
   "outputs": [
    {
     "name": "stdout",
     "output_type": "stream",
     "text": [
      "Populating the interactive namespace from numpy and matplotlib\n"
     ]
    }
   ],
   "source": [
    "import scipy.io\n",
    "import scipy.stats\n",
    "import numpy \n",
    "import matplotlib.pyplot as plt\n",
    "import matplotlib\n",
    "from sklearn.neighbors import KernelDensity\n",
    "\n",
    "# this tells seaborn and matplotlib to generate plots inline in the notebook\n",
    "%matplotlib inline  \n",
    " \n",
    "# these two lines allow you to control the figure size\n",
    "%pylab inline\n",
    "pylab.rcParams['figure.figsize'] = (20.0, 4.0)\n",
    "\n",
    "# lets you print the entire numpy array\n",
    "numpy.set_printoptions(threshold=numpy.nan)\n",
    " \n"
   ]
  },
  {
   "cell_type": "code",
   "execution_count": 52,
   "metadata": {
    "collapsed": false
   },
   "outputs": [],
   "source": [
    "DEBUG = False\n",
    "\n",
    "class MNISTClassifier(object):\n",
    "    \n",
    "    \n",
    "    # constructor takes train data set and test data set\n",
    "    def __init__(self, trainData, trainLabels, testData, testLabels):\n",
    "        self.trainData = trainData\n",
    "        self.trainLabels = trainLabels\n",
    "        self.testData = testData\n",
    "        self.testLabels = testLabels\n",
    "        self.startNumber = 0\n",
    "        self.endNumber = 10\n",
    "        self.confusionMatrix = None\n",
    "        return\n",
    "    \n",
    "    \n",
    "    # This function will be overwritten by the meanClassifier, and the kernelClassifier\n",
    "    def train(self):\n",
    "        pass\n",
    "    \n",
    "    \n",
    "    # This function will be overwritten by the meanClassifier, and the kernelClassifier\n",
    "    def predict(self, dataRow):\n",
    "        pass\n",
    "    \n",
    "    \n",
    "    # This function computes a confusion matrix, so that we can plot it, \n",
    "    # and then we can calculate the accuracy and error rates after the classifier has trained\n",
    "    def computeConfusionMatrix(self):\n",
    "        if self.confusionMatrix is None:\n",
    "            self.confusionMatrix = numpy.zeros((self.endNumber, self.endNumber))\n",
    "            for row in range(len(self.testLabels)):\n",
    "                testRow = self.testData[row]\n",
    "                trueLabel = self.testLabels[row]\n",
    "                predictedLabel = self.predict(testRow)\n",
    "                if DEBUG: print \"trueLabel: \" + str(trueLabel) + \" predictedLabel \" + str(predictedLabel)\n",
    "                self.confusionMatrix[predictedLabel, trueLabel] = self.confusionMatrix[predictedLabel, trueLabel] + 1 \n",
    "        return \n",
    "    \n",
    "    \n",
    "    # printing confusion matrix with nice colors\n",
    "    def printConfusionMatrix(self, title):\n",
    "        self.computeConfusionMatrix()\n",
    "        xRange = range(0,10)\n",
    "        labels = [str(x) for x in xRange]\n",
    "        figure = plt.figure()\n",
    "        subplot = figure.add_subplot(111)\n",
    "        matplot = subplot.matshow(self.confusionMatrix)\n",
    "        figure.colorbar(matplot)\n",
    "        subplot.set_title(title)\n",
    "        subplot.set_xticklabels(labels)\n",
    "        subplot.set_yticklabels(labels)\n",
    "        subplot.set_xticks(xRange)\n",
    "        subplot.set_yticks(xRange)\n",
    "        subplot.set_xlabel(\"True Class\")\n",
    "        subplot.set_ylabel(\"Predicted Class\")\n",
    "        return\n",
    "    \n",
    "    \n",
    "    # This functions calculates the accuracy rate and the error rate of the testLabels predictions by using \n",
    "    # the confusion matrix\n",
    "    def printClassificationRate(self):\n",
    "        self.computeConfusionMatrix()\n",
    "        correctPredictions = 0\n",
    "        incorrectPredictions = 0\n",
    "        for row in range(self.startNumber, self.endNumber):\n",
    "            for col in range(self.startNumber, self.endNumber):\n",
    "                if row == col:\n",
    "                    correctPredictions = correctPredictions + self.confusionMatrix[row, col]\n",
    "                else:\n",
    "                    incorrectPredictions = incorrectPredictions + self.confusionMatrix[row, col]\n",
    "        accuracyRate = correctPredictions / len(self.testLabels)\n",
    "        errorRate = incorrectPredictions / len(self.testLabels)\n",
    "        print \"Accurate Rate \" + str(accuracyRate)\n",
    "        print \"Error Rate \" + str(errorRate)\n",
    "        return\n",
    "    \n",
    "    \n",
    "    # This function is just the important part of a multivariable Gaussian without the normalizing factor\n",
    "    # because we will not be integrating. Then probabilities can be calculated faster\n",
    "    # Normal multivarible gaussian\n",
    "    # p(x|u,E) = (2pi)^(-k/2) * |E|^(-1/2) * e^(-0.5 * (x - u)Transpose * E^(-1) * (x - u))\n",
    "    #\n",
    "    # Short multivariable gaussian\n",
    "    # p(x|u,E) = e^(-0.5 * (x - u)Transpose * (x - u))\n",
    "    #\n",
    "    # x is the inputVector, u is the meanVector.\n",
    "    # We took out the covariance matrix because we are using the identity matrix which returns the same \n",
    "    # multiplying matrix. For example A * I = A\n",
    "    def fastGaussian(self, inputVector, meanVector):\n",
    "        vector = matrix(inputVector - meanVector)     \n",
    "        probability = math.pow(math.e, -0.5 * (vector * vector.T))\n",
    "        return probability\n",
    "            "
   ]
  },
  {
   "cell_type": "code",
   "execution_count": 53,
   "metadata": {
    "collapsed": false
   },
   "outputs": [],
   "source": [
    "class MeanClassifier(MNISTClassifier):\n",
    "    \n",
    "    \n",
    "    # The training of the mean classifier is just calculating the means of all the point of each MNIST class\n",
    "    # so that we can calculate the probability of a testPoint to belong to a MNIST class\n",
    "    def train(self):\n",
    "        self.means = list()\n",
    "        for number in range(self.startNumber, self.endNumber):\n",
    "            numberIndexes = numpy.where(self.trainLabels == number)[0]\n",
    "            trainRows = self.trainData[numberIndexes]\n",
    "            meanRow = trainRows.mean(axis = 0)\n",
    "            self.means.append(meanRow)\n",
    "        return\n",
    "\n",
    "    \n",
    "    # Predicting is just a operation that calculates the probabilities of a testPoint to belong to all the\n",
    "    # MNIST classes. Then it returns the class of the largest probability\n",
    "    def predict(self, testRow):\n",
    "        greatestProbability = float('-inf') \n",
    "        for number in range(self.startNumber, self.endNumber):\n",
    "            meanRow = self.means[number]\n",
    "            probability = self.fastGaussian(testRow, meanRow)         \n",
    "            if probability > greatestProbability:\n",
    "                greatestProbability = probability\n",
    "                predictedClass = number\n",
    "        return predictedClass\n",
    "    \n",
    "    \n",
    "    # This function plots the matrix representation of the mean of every class to visualize a fuzzy number\n",
    "    def visualizeMeans(self):\n",
    "        for row in range(self.startNumber, self.endNumber): \n",
    "            plt.subplot(2, 5, row + 1)\n",
    "            plt.imshow(self.means[row].reshape(28,28).T, interpolation='nearest', cmap=matplotlib.cm.gray) \n",
    "        plt.show()\n",
    "        return\n",
    "    \n",
    "    "
   ]
  },
  {
   "cell_type": "code",
   "execution_count": 54,
   "metadata": {
    "collapsed": true
   },
   "outputs": [],
   "source": [
    "class KernelClassifier(MNISTClassifier):\n",
    "    \n",
    "    \n",
    "    # Since the kernel classifier needs every single point in the training set to calculate a Gaussian there is no \n",
    "    # training, so we will just use this function to clean our kernel density estimations\n",
    "    def train(self):\n",
    "        self.kernelDensityEstimations = {}\n",
    "        for number in range(self.endNumber):\n",
    "            self.kernelDensityEstimations[number] = 0\n",
    "        return\n",
    "    \n",
    "    \n",
    "    # The kernel density classifier sums up the probabilities of the Gaussians produced by every single \n",
    "    # vectorPoint in the training set, and keeps track of the density estimations for every MNIST class in a \n",
    "    # list, at the end of the 60,000 points it selects the class with the greatest density estimation\n",
    "    # Gaussian Kernel Density Estimation Function\n",
    "    # p(x) = 1/N * Sum from 1 to N of Gaussian(x|u, E)\n",
    "    #\n",
    "    # Our Short Gassian Kernel Density Estimation Function\n",
    "    # p(x) = Sum from 1 to N of Gaussian(x|u)\n",
    "    #\n",
    "    # N is the number of points in a particular class, E is the covariance matrix\n",
    "    # We took out N because we do not need a normalized probability, we just care about the greatest probability\n",
    "    # We also took out the covariance matrix because we are using the identity matrix I\n",
    "    def predict(self, testRow):\n",
    "        self.train()\n",
    "        for row in range(len(self.trainLabels)):\n",
    "            number = self.trainLabels[row][0]\n",
    "            trainRow = self.trainData[row]\n",
    "            probability = self.fastGaussian(testRow, trainRow)        \n",
    "            self.kernelDensityEstimations[number] = self.kernelDensityEstimations[number] + probability\n",
    "        predictedClass =  max(self.kernelDensityEstimations, key = self.kernelDensityEstimations.get)\n",
    "        return predictedClass\n",
    "\n",
    "    "
   ]
  },
  {
   "cell_type": "code",
   "execution_count": 55,
   "metadata": {
    "collapsed": false,
    "scrolled": true
   },
   "outputs": [],
   "source": [
    "trainDataFrame = scipy.io.loadmat('mnist_train.mat')\n",
    "trainData = trainDataFrame['images'].transpose()\n",
    "trainLabels = trainDataFrame['labels']\n",
    " \n",
    "testDataFrame = scipy.io.loadmat('mnist_test.mat')\n",
    "testData = testDataFrame['t10k_images'].transpose()\n",
    "testLabels = testDataFrame['t10k_labels']\n",
    "\n",
    "meanClassifier = MeanClassifier(trainData, trainLabels, testData, testLabels)\n",
    "kernelClassifier = KernelClassifier(trainData, trainLabels, testData[0:1000], testLabels[0:1000])\n",
    "\n",
    "meanClassifier.train()\n",
    "kernelClassifier.train()\n",
    "\n"
   ]
  },
  {
   "cell_type": "code",
   "execution_count": 56,
   "metadata": {
    "collapsed": false,
    "scrolled": true
   },
   "outputs": [
    {
     "data": {
      "image/png": "[encoded data removed]",
      "text/plain": [
       "<matplotlib.figure.Figure at 0x7fe0bfc2c1d0>"
      ]
     },
     "metadata": {},
     "output_type": "display_data"
    }
   ],
   "source": [
    "meanClassifier.visualizeMeans()"
   ]
  },
  {
   "cell_type": "code",
   "execution_count": 57,
   "metadata": {
    "collapsed": false
   },
   "outputs": [
    {
     "name": "stdout",
     "output_type": "stream",
     "text": [
      "Accurate Rate 0.8203\n",
      "Error Rate 0.1797\n"
     ]
    }
   ],
   "source": [
    "meanClassifier.printClassificationRate()"
   ]
  },
  {
   "cell_type": "code",
   "execution_count": 58,
   "metadata": {
    "collapsed": false
   },
   "outputs": [
    {
     "data": {
      "image/png": "[encoded data removed]",
      "text/plain": [
       "<matplotlib.figure.Figure at 0x7fe0a34ef290>"
      ]
     },
     "metadata": {},
     "output_type": "display_data"
    }
   ],
   "source": [
    "meanClassifier.printConfusionMatrix(title=\"Confusion Matrix using means \\n\")"
   ]
  },
  {
   "cell_type": "code",
   "execution_count": 59,
   "metadata": {
    "collapsed": false
   },
   "outputs": [
    {
     "name": "stdout",
     "output_type": "stream",
     "text": [
      "Accurate Rate 0.961\n",
      "Error Rate 0.039\n"
     ]
    }
   ],
   "source": [
    "kernelClassifier.printClassificationRate()"
   ]
  },
  {
   "cell_type": "code",
   "execution_count": 60,
   "metadata": {
    "collapsed": false
   },
   "outputs": [
    {
     "data": {
      "image/png": "[encoded data removed]",
      "text/plain": [
       "<matplotlib.figure.Figure at 0x7fe0a3503ad0>"
      ]
     },
     "metadata": {},
     "output_type": "display_data"
    }
   ],
   "source": [
    "kernelClassifier.printConfusionMatrix(title=\"Confusion Matrix using kernels \\n\")"
   ]
  }
 ],
 "metadata": {
  "kernelspec": {
   "display_name": "Python 2",
   "language": "python",
   "name": "python2"
  },
  "language_info": {
   "codemirror_mode": {
    "name": "ipython",
    "version": 2
   },
   "file_extension": ".py",
   "mimetype": "text/x-python",
   "name": "python",
   "nbconvert_exporter": "python",
   "pygments_lexer": "ipython2",
   "version": "2.7.11"
  }
 },
 "nbformat": 4,
 "nbformat_minor": 0
}
