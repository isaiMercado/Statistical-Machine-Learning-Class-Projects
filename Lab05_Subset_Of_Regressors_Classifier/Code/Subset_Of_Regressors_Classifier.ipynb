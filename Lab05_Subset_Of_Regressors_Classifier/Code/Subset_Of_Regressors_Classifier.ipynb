{
 "cells": [
  {
   "cell_type": "code",
   "execution_count": 28,
   "metadata": {
    "collapsed": false
   },
   "outputs": [
    {
     "name": "stdout",
     "output_type": "stream",
     "text": [
      "Populating the interactive namespace from numpy and matplotlib\n"
     ]
    }
   ],
   "source": [
    "import numpy\n",
    "import pandas\n",
    "from numpy import matrix\n",
    "from pandas import DataFrame\n",
    "import matplotlib.pyplot as pyplot\n",
    "\n",
    "\n",
    "%matplotlib inline\n",
    "%pylab inline"
   ]
  },
  {
   "cell_type": "code",
   "execution_count": 29,
   "metadata": {
    "collapsed": false
   },
   "outputs": [],
   "source": [
    "# This class just holds the similitude matrixes used by\n",
    "# my invented Kernel function\n",
    "class StoreSimilitudeMatrixes(object):\n",
    "    \n",
    "               # Mon, Tue, Wed, Thu, Fri, Sat, Sun\n",
    "    Days =  [[1, 0.5, 0.25, 0, 0, 0.25, 0.5], # Mon\n",
    "             [0.5, 1, 0.5, 0.25, 0, 0, 0.25], # Tue \n",
    "             [0.25, 0.5, 1, 0.5, 0.25, 0, 0], # Wed\n",
    "             [0, 0.25, 0.5, 1, 0.5, 0.25, 0], # Thu\n",
    "             [0, 0, 0.25, 0.5, 1, 0.5, 0.25], # Fri\n",
    "             [0.25, 0, 0, 0.25, 0.5, 1, 0.5], # Sat\n",
    "             [0.5, 0.25, 0, 0, 0.25, 0.5, 1]] # Sun\n",
    "    \n",
    "    "
   ]
  },
  {
   "cell_type": "code",
   "execution_count": 30,
   "metadata": {
    "collapsed": true
   },
   "outputs": [],
   "source": [
    "# This class is the Kernel Matrix of the Subset Of Regressors \n",
    "# Algorithm. The class contains the different sections of the matrix. \n",
    "class KernelMatrix(object):\n",
    "    \n",
    "    \n",
    "    def __init__(self, setN, subsetM):\n",
    "        self.Submatrix_K_M_M = self.Calculate_Matrix_K_M_M(subsetM)\n",
    "        self.Submatrix_K_M_N = self.Calculate_Matrix_K_M_N(subsetM, setN)\n",
    "        self.Submatrix_K_N_M = self.Calculate_Matrix_K_N_M(setN, subsetM)\n",
    "        return\n",
    "    \n",
    "    \n",
    "    def Calculate_Matrix_K_M_M(self, subsetM):\n",
    "        submatrix_K_M_M = numpy.empty(shape=[len(subsetM), len(subsetM)])\n",
    "        for row in range(len(subsetM)):\n",
    "            for col in range(len(subsetM)):\n",
    "                submatrix_K_M_M[row,col] = self.K(subsetM.iloc[row], subsetM.iloc[col])\n",
    "        return submatrix_K_M_M\n",
    "    \n",
    "    \n",
    "    def Calculate_Matrix_K_M_N(self, subsetM, setN):\n",
    "        submatrix_K_M_N = numpy.empty(shape=[len(subsetM), len(setN)])\n",
    "        for row in range(len(subsetM)):\n",
    "            for col in range(len(setN)):\n",
    "                submatrix_K_M_N[row,col] = self.K(subsetM.iloc[row], setN.iloc[col])\n",
    "        return submatrix_K_M_N\n",
    "    \n",
    "    \n",
    "    def Calculate_Matrix_K_N_M(self, setN, subsetM):\n",
    "        submatrix_K_N_M = numpy.empty(shape=[len(setN), len(subsetM)])\n",
    "        for row in range(len(setN)):\n",
    "            for col in range(len(subsetM)):\n",
    "                submatrix_K_N_M[row,col] = self.K(setN.iloc[row], subsetM.iloc[col])\n",
    "        return submatrix_K_N_M\n",
    "    \n",
    "    \n",
    "    def Calculate_Vector_K_t_M(self, testVector, subsetM):\n",
    "        submatrix_K_t_M = numpy.empty(shape=[1, len(subsetM)])\n",
    "        for col in range(len(subsetM)):\n",
    "            submatrix_K_t_M[0,col] = self.K(testVector, subsetM.iloc[col])\n",
    "        return submatrix_K_t_M\n",
    "    \n",
    "    \n",
    "    # Construction of my invented Kernel function\n",
    "    def K(self, dataEntryI, dataEntryJ):\n",
    "        indexFixer = 1\n",
    "        day1 = numpy.asscalar(dataEntryI.DayOfWeek) - indexFixer\n",
    "        day2 = numpy.asscalar(dataEntryJ.DayOfWeek) - indexFixer\n",
    "        distance = StoreSimilitudeMatrixes.Days[day1][day2]\n",
    "        return distance\n",
    "        \n",
    "        "
   ]
  },
  {
   "cell_type": "code",
   "execution_count": 31,
   "metadata": {
    "collapsed": false
   },
   "outputs": [],
   "source": [
    "class SubsetOfRegressors(object):\n",
    "    \n",
    "    \n",
    "    def __init__(self, trainingFeatures, trainingLabels):\n",
    "        self.SetN = trainingFeatures\n",
    "        self.SubsetM = self.Select_SubsetM(self.SetN)\n",
    "        self.KernelMatrix = KernelMatrix(self.SetN, self.SubsetM)\n",
    "        self.Alpha = self.Calculate_Alpha(self.KernelMatrix, trainingLabels)\n",
    "        return\n",
    "    \n",
    "    \n",
    "    # Implementation of a simple selection algorithm to select the subset m\n",
    "    def Select_SubsetM(self, setN):\n",
    "        lenght = 100\n",
    "        subsetM = self.SetN.iloc[numpy.random.permutation(len(self.SetN))][0:lenght]\n",
    "        return subsetM\n",
    "    \n",
    "    \n",
    "    # First Part implementation of the subset of regressors algorithm.\n",
    "    # I divided the equation in two functions because one part does not \n",
    "    # change, so this part of the equation can be saved in memory.\n",
    "    def Calculate_Alpha(self, kernelMatrix, trainingLabels):\n",
    "        matrix_K_M_M = kernelMatrix.Submatrix_K_M_M\n",
    "        matrix_K_M_N = kernelMatrix.Submatrix_K_M_N\n",
    "        matrix_K_N_M = kernelMatrix.Submatrix_K_N_M\n",
    "        sigmaSquare = 1\n",
    "        columnVector_Y = trainingLabels\n",
    "        \n",
    "        dotProduct = numpy.dot(matrix_K_M_N, matrix_K_N_M) \n",
    "        matrixMultiplication = (sigmaSquare * matrix_K_M_M)\n",
    "        addition = dotProduct + matrixMultiplication\n",
    "        additionInv = numpy.linalg.pinv(addition)\n",
    "        secondDotProduct = numpy.dot(matrix_K_M_N, columnVector_Y)\n",
    "        alpha = numpy.dot(additionInv, secondDotProduct)\n",
    "        return alpha\n",
    "        \n",
    "      \n",
    "    # Second Part of the implementation of the subset of regressors algorithm.\n",
    "    # This is the part that has to be calculated from scratch with every new point\n",
    "    def Calculate_Mu_Prime(self, testPoint):\n",
    "        rowVector_K_t_M = self.KernelMatrix.Calculate_Vector_K_t_M(testPoint, self.SubsetM)\n",
    "        muPrime = numpy.dot(rowVector_K_t_M, self.Alpha)\n",
    "        muPrime = numpy.asscalar(muPrime)\n",
    "        return muPrime\n",
    "        \n",
    "        "
   ]
  },
  {
   "cell_type": "code",
   "execution_count": 32,
   "metadata": {
    "collapsed": false
   },
   "outputs": [],
   "source": [
    "# This class just shows that the Subset of Regressors algorithm\n",
    "# is used inside a classifier, but the classifier is just a practical\n",
    "# implementation of the algorithm.\n",
    "class StoreClassifier(object):\n",
    "    \n",
    "    \n",
    "    def __init__(self, trainingFeatures, trainingLabels):\n",
    "        self.Algorithm = SubsetOfRegressors(trainingFeatures, trainingLabels)\n",
    "        return\n",
    "        \n",
    "        \n",
    "    def Predict(self, testPoint):\n",
    "        muPrime = self.Algorithm.Calculate_Mu_Prime(testPoint)\n",
    "        return muPrime\n",
    "    \n",
    "    "
   ]
  },
  {
   "cell_type": "code",
   "execution_count": 33,
   "metadata": {
    "collapsed": false
   },
   "outputs": [],
   "source": [
    "# This class contains the logic specific to this homework\n",
    "class Main(object):\n",
    "    \n",
    "    \n",
    "    def __init__(self):\n",
    "        testData = pandas.read_csv( 'store_test.csv' )\n",
    "        trainingData = pandas.read_csv( 'store_train.csv' )\n",
    "        \n",
    "        testData = testData.iloc[numpy.random.permutation(len(testData))] #[0:1000]\n",
    "        trainingData = trainingData.iloc[np.random.permutation(len(trainingData))][0:1000]\n",
    "        \n",
    "        self.TrainingLabels = trainingData['Sales']\n",
    "        self.TrainingFeatures = trainingData.drop(['Sales'], axis=1) \n",
    "        \n",
    "        self.TestFeatures = testData\n",
    "        \n",
    "        self.Classifier = StoreClassifier(self.TrainingFeatures, self.TrainingLabels)\n",
    "        \n",
    "        self.Predictions = list()\n",
    "        return\n",
    "        \n",
    "    \n",
    "    def PredictTestFeatures(self):\n",
    "        for index in range(len(self.TestFeatures)):\n",
    "            self.Predictions.append(self.Classifier.Predict(self.TestFeatures.iloc[index]))\n",
    "        \n",
    "    \n",
    "        \n",
    "    def MakeKaggleSubmittionFile(self):\n",
    "        sfile = open( 'kaggleSubmittionFile.csv', 'wb' )\n",
    "        sfile.write( '\"Id\",\"Sales\"\\n' )\n",
    "        \n",
    "        for index in range( 0, len(self.Predictions) ):\n",
    "            id = index + 1\n",
    "            prediction = self.Predictions[index]\n",
    "            \n",
    "            sfile.write( '%d,%.2f\\n' % ( id, prediction ) )  # add one for one-based indexing\n",
    "        sfile.close()\n",
    "    \n",
    "    \n",
    "    # Displays the kernel matrix\n",
    "    def Print_Matrix_K_M_M(self):\n",
    "        matrix_K_M_M = self.Classifier.Algorithm.KernelMatrix.Submatrix_K_M_M\n",
    "        matrix_length = matrix_K_M_M.shape[0]\n",
    "        matrix_range = range(0,matrix_length)\n",
    "        figure = plt.figure()\n",
    "        figure.set_size_inches(20, 20, forward = True)\n",
    "        subplot = figure.add_subplot(111)\n",
    "        matplot = subplot.matshow(matrix_K_M_M)\n",
    "        figure.colorbar(matplot)\n",
    "        subplot.set_title(\"matrix Kmm\")\n",
    "        return\n",
    "        \n",
    "    \n",
    "    "
   ]
  },
  {
   "cell_type": "code",
   "execution_count": 34,
   "metadata": {
    "collapsed": false
   },
   "outputs": [
    {
     "data": {
      "image/png": "[encoded data removed]",
      "text/plain": [
       "<matplotlib.figure.Figure at 0x7f72ac0d1a90>"
      ]
     },
     "metadata": {},
     "output_type": "display_data"
    }
   ],
   "source": [
    "main = Main()\n",
    "main.PredictTestFeatures()\n",
    "main.MakeKaggleSubmittionFile()\n",
    "main.Print_Matrix_K_M_M()\n",
    "\n",
    "\n",
    "\n",
    "######################### From the Kaggle Competition #########################\n",
    "# Accuracy was 0.60745 Root Mean Square Percentage Error\n",
    "\n"
   ]
  }
 ],
 "metadata": {
  "kernelspec": {
   "display_name": "Python 2",
   "language": "python",
   "name": "python2"
  },
  "language_info": {
   "codemirror_mode": {
    "name": "ipython",
    "version": 2
   },
   "file_extension": ".py",
   "mimetype": "text/x-python",
   "name": "python",
   "nbconvert_exporter": "python",
   "pygments_lexer": "ipython2",
   "version": "2.7.11"
  }
 },
 "nbformat": 4,
 "nbformat_minor": 0
}
