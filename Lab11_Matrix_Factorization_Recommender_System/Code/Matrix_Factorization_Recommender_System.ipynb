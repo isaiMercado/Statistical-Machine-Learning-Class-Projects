{
 "cells": [
  {
   "cell_type": "code",
   "execution_count": 1,
   "metadata": {
    "collapsed": false
   },
   "outputs": [],
   "source": [
    "import numpy\n",
    "import pandas"
   ]
  },
  {
   "cell_type": "code",
   "execution_count": 2,
   "metadata": {
    "collapsed": true
   },
   "outputs": [],
   "source": [
    "number = 0\n",
    "def is_running():\n",
    "    global number \n",
    "    number = number + 1\n",
    "    print('\\r' + str(number), end=\"\")\n",
    "    return"
   ]
  },
  {
   "cell_type": "code",
   "execution_count": 3,
   "metadata": {
    "collapsed": false
   },
   "outputs": [],
   "source": [
    "class MoviesClassifier(object):\n",
    "    \n",
    "    \n",
    "    def __init__(self):\n",
    "        self.Users_Matrix = None\n",
    "        self.Items_Matrix = None\n",
    "        self.User_To_Index = dict()\n",
    "        self.Movie_To_Index = dict()\n",
    "    \n",
    "    \n",
    "    def Train(self, observed_matrix, user_to_index, movie_to_index):\n",
    "        \n",
    "        self.User_To_Index = user_to_index\n",
    "        self.Movie_To_Index = movie_to_index\n",
    "        \n",
    "        rows = len(observed_matrix)\n",
    "        cols = len(observed_matrix[0])\n",
    "        \n",
    "        features_number = 3\n",
    "\n",
    "        self.Users_Matrix = numpy.random.rand(rows, features_number)\n",
    "        self.Items_Matrix = numpy.random.rand(cols, features_number)\n",
    "\n",
    "        self.Gradient_Descent_Matrix_Factorization(observed_matrix, features_number)\n",
    "        return\n",
    "        \n",
    "     \n",
    "    def Predictions(self, users_movies_vector):\n",
    "        predictions = list()\n",
    "        \n",
    "        for i, row in users_movies_vector.iterrows():\n",
    "            if row.userID in self.User_To_Index and row.movieID in self.Movie_To_Index:\n",
    "                user_index = self.User_To_Index[row.userID]\n",
    "                movie_index = self.Movie_To_Index[row.movieID]\n",
    "                user_row = self.Users_Matrix[user_index]\n",
    "                movie_row = self.Items_Matrix[:,movie_index]\n",
    "                prediction = self.Predict(user_row, movie_row.T)\n",
    "                predictions.append(str(row.testID) + \", \" + str(prediction) + \"\\n\")\n",
    "            \n",
    "        file = open(\"predictions.csv\", \"w\")\n",
    "        for prediction in predictions:\n",
    "            file.write(prediction)\n",
    "        \n",
    "        \n",
    "    def Predict(self, user_row, item_col):\n",
    "        prediction = numpy.dot(user_row,item_col)\n",
    "        return prediction\n",
    "        \n",
    "        \n",
    "    def Error_Function(self, target, prediction):\n",
    "        return pow(target - prediction, 2)\n",
    "\n",
    "\n",
    "    def Error_Partial_Derivative_Users(self, target, prediction, item):\n",
    "        return 2 * (target - prediction) * item\n",
    "\n",
    "\n",
    "    def Error_Partial_Derivative_Items(self, target, prediction, user):\n",
    "        return 2 * (target - prediction) * user\n",
    "\n",
    "\n",
    "    def Is_Observed(self, entry):\n",
    "        return entry > 0\n",
    "\n",
    "\n",
    "    def Gradient_Descent_Matrix_Factorization(self, Observed_Matrix, Features_Number, steps=5000, learning_rate=0.002, beta=0.02):\n",
    "        global counter\n",
    "        counter = 0\n",
    "        \n",
    "        Items_Matrix = self.Items_Matrix.T\n",
    "        Users_Matrix = self.Users_Matrix\n",
    "\n",
    "        for step in range(steps):\n",
    "            is_running()\n",
    "            total_error = 0.0\n",
    "\n",
    "            for row in range(len(Observed_Matrix)):\n",
    "                for col in range(len(Observed_Matrix[row])):\n",
    "                    if self.Is_Observed(Observed_Matrix[row][col]) == True:\n",
    "                        \n",
    "                        target = Observed_Matrix[row][col]\n",
    "\n",
    "                        user_row = Users_Matrix[row,:]\n",
    "                        item_col = Items_Matrix[:,col]\n",
    "                        prediction = self.Predict(user_row,item_col)\n",
    "\n",
    "                        for feat in range(Features_Number):\n",
    "                            Users_Matrix[row][feat] = Users_Matrix[row][feat] + learning_rate * self.Error_Partial_Derivative_Users(target, prediction, Items_Matrix[feat][col])\n",
    "                            Items_Matrix[feat][col] = Items_Matrix[feat][col] + learning_rate * self.Error_Partial_Derivative_Items(target, prediction, Users_Matrix[row][feat])\n",
    "\n",
    "                        user_row = Users_Matrix[row,:]\n",
    "                        item_col = Items_Matrix[:,col]\n",
    "                        prediction = self.Predictghb(user_row,item_col)\n",
    "\n",
    "                        total_error = total_error + self.Error_Function(target, prediction)\n",
    "\n",
    "            if total_error < 0.01:\n",
    "                break\n",
    "\n",
    "        self.Users_Matrix = self.Users_Matrix\n",
    "        self.Items_Matrix = self.Items_Matrix.T\n",
    "        return\n"
   ]
  },
  {
   "cell_type": "code",
   "execution_count": 4,
   "metadata": {
    "collapsed": false
   },
   "outputs": [],
   "source": [
    "movies_classifier = MoviesClassifier()"
   ]
  },
  {
   "cell_type": "code",
   "execution_count": null,
   "metadata": {
    "collapsed": false
   },
   "outputs": [],
   "source": [
    "train_set = pandas.read_csv('user_ratedmovies_train.csv',',')\n",
    "train_set = train_set.reindex(numpy.random.permutation(train_set.ID))[0:1000]\n",
    "train_set_list = train_set.iloc()\n",
    "\n",
    "user_to_index = dict()\n",
    "movie_to_index = dict()\n",
    "\n",
    "user_counter = 0\n",
    "movie_counter = 0\n",
    "for i, row in train_set.iterrows():\n",
    "    if (row.userID in user_to_index) == False:\n",
    "        user_to_index[row.userID] = user_counter\n",
    "        user_counter = user_counter + 1\n",
    "    if (row.movieID in movie_to_index) == False:\n",
    "        movie_to_index[row.movieID] = movie_counter\n",
    "        movie_counter = movie_counter + 1\n",
    "        \n",
    "rows = len(user_to_index)\n",
    "cols = len(movie_to_index)\n",
    "\n",
    "observed_matrix = numpy.zeros((rows, cols))\n",
    "\n",
    "for userID, userIndex in user_to_index.items():\n",
    "    user_ratings = train_set[train_set.userID == userID]\n",
    "    for movieID, movieIndex in movie_to_index.items():\n",
    "        movie_rating = user_ratings[user_ratings.movieID == movieID].rating\n",
    "        if len(movie_rating) == 1:\n",
    "            rating = movie_rating.iloc()[0]\n",
    "            observed_matrix[userIndex, movieIndex] = rating\n",
    "\n",
    "\n",
    "print(\"Done Making Matrix\")"
   ]
  },
  {
   "cell_type": "code",
   "execution_count": null,
   "metadata": {
    "collapsed": false
   },
   "outputs": [],
   "source": [
    "movies_classifier.Train(observed_matrix, user_to_index, movie_to_index)\n",
    "print(\"\\nDone Training\")"
   ]
  },
  {
   "cell_type": "code",
   "execution_count": null,
   "metadata": {
    "collapsed": false
   },
   "outputs": [],
   "source": [
    "unknown_set = pandas.read_csv('predictions.dat','\\t')\n",
    "print(\"Done Loading Predictions Set\")"
   ]
  },
  {
   "cell_type": "code",
   "execution_count": null,
   "metadata": {
    "collapsed": false
   },
   "outputs": [],
   "source": [
    "movies_classifier.Predictions(unknown_set)\n",
    "print(\"Done Predicting\")"
   ]
  },
  {
   "cell_type": "code",
   "execution_count": null,
   "metadata": {
    "collapsed": true
   },
   "outputs": [],
   "source": []
  }
 ],
 "metadata": {
  "kernelspec": {
   "display_name": "Python 3",
   "language": "python",
   "name": "python3"
  },
  "language_info": {
   "codemirror_mode": {
    "name": "ipython",
    "version": 3
   },
   "file_extension": ".py",
   "mimetype": "text/x-python",
   "name": "python",
   "nbconvert_exporter": "python",
   "pygments_lexer": "ipython3",
   "version": "3.5.1"
  }
 },
 "nbformat": 4,
 "nbformat_minor": 0
}
