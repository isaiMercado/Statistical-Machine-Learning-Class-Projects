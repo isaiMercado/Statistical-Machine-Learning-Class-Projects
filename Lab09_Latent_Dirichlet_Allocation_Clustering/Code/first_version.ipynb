{
 "cells": [
  {
   "cell_type": "code",
   "execution_count": 57,
   "metadata": {
    "collapsed": false
   },
   "outputs": [],
   "source": [
    "import numpy as np\n",
    "import re\n",
    "import random \n",
    "#from numpy.random import dirichlet \n",
    "from scipy.stats import dirichlet\n",
    "from numpy.random import multinomial"
   ]
  },
  {
   "cell_type": "code",
   "execution_count": 58,
   "metadata": {
    "collapsed": true
   },
   "outputs": [],
   "source": [
    "K_topics = 10 \n",
    "M_documents = 472 \n",
    "V_vocabulary = 0\n",
    "\n",
    "topics = list()\n",
    "vocabulary = list()\n",
    "\n",
    "documents = list()\n",
    "\n",
    "A_prior_topic_per_document = None\n",
    "B_prior_topic_per_word_in_document = None\n",
    "\n"
   ]
  },
  {
   "cell_type": "code",
   "execution_count": 59,
   "metadata": {
    "collapsed": true
   },
   "outputs": [],
   "source": [
    "class Document(object):\n",
    "    \n",
    "    def __init__(self, words, total_words, topic):\n",
    "        self.words = words\n",
    "        self.total_words = 0\n",
    "        self.topic = topic\n",
    "        self.topics_probabilities = [i for i in range(K_topics)]"
   ]
  },
  {
   "cell_type": "code",
   "execution_count": 60,
   "metadata": {
    "collapsed": true
   },
   "outputs": [],
   "source": [
    "class WordPerDocument(object):\n",
    "    \n",
    "    def __init__(self, word, count, topic):\n",
    "        self.word = word\n",
    "        self.count = count\n",
    "        self.topic = topic\n",
    "        self.topics_probabilities = [i for i in range(K_topics)]"
   ]
  },
  {
   "cell_type": "code",
   "execution_count": 61,
   "metadata": {
    "collapsed": true
   },
   "outputs": [],
   "source": [
    "class DocumentsPerWord(object):\n",
    "    \n",
    "    def __init__(self, word):\n",
    "        self.word = word\n",
    "        self.documents = list()"
   ]
  },
  {
   "cell_type": "code",
   "execution_count": 62,
   "metadata": {
    "collapsed": false
   },
   "outputs": [],
   "source": [
    "def read_documents():\n",
    "    global V_vocabulary\n",
    "    global vocabulary\n",
    "    global documents\n",
    "    global A_prior_topic_per_document\n",
    "    global B_prior_topic_per_word_in_document\n",
    "    \n",
    "    \n",
    "    \n",
    "    def random_topic():\n",
    "        return random.randint(0, K_topics - 1)\n",
    "    \n",
    "    \n",
    "    \n",
    "    vocabulary_set = set()\n",
    "    documents_words_counts = list() \n",
    "    for document_index in range(1, M_documents + 1):\n",
    "        document_string = open('files/output%04d.txt' % document_index).read() \n",
    "        words = re.sub('[^a-z ]+', ' ', document_string.lower()).split()\n",
    "        word_count = dict()\n",
    "        for word in words:\n",
    "            vocabulary_set.add(word)\n",
    "            if word in word_count:\n",
    "                word_count[word] = word_count[word] + 1\n",
    "            else:\n",
    "                word_count[word] = 0\n",
    "        documents_words_counts.append(word_count)\n",
    "    \n",
    "\n",
    "    \n",
    "    for document_word_count in documents_words_counts:\n",
    "        document_words_count = 0\n",
    "        words = list()\n",
    "        for vocabulary_word in list(vocabulary_set):\n",
    "            word = WordPerDocument(vocabulary_word, 0, random_topic())\n",
    "            if vocabulary_word in document_word_count:\n",
    "                document_words_count = document_words_count + document_word_count[vocabulary_word]\n",
    "                word.count = document_word_count[vocabulary_word]\n",
    "            words.append(word)\n",
    "        documents.append(Document(words, document_words_count, random_topic()))\n",
    "        \n",
    "        \n",
    "        \n",
    "    for vocabulary_word in list(vocabulary_set):\n",
    "        word = DocumentsPerWord(vocabulary_word)\n",
    "        documents_per_word = list()\n",
    "        for document in documents:\n",
    "            for document_word in document.words:\n",
    "                if vocabulary_word == document_word:\n",
    "                    documents_per_word.add(document)\n",
    "                    break\n",
    "        word.documents = documents_per_word\n",
    "        vocabulary.append(word)\n",
    "    \n",
    "    \n",
    "    \n",
    "    V_vocabulary = len(vocabulary)\n",
    "    A_prior_topic_per_document = np.ones(K_topics)\n",
    "    B_prior_topic_per_word_in_document = np.ones(V_vocabulary)\n",
    "    \n",
    "    \n",
    "    \n",
    "    return "
   ]
  },
  {
   "cell_type": "code",
   "execution_count": 63,
   "metadata": {
    "collapsed": false
   },
   "outputs": [
    {
     "name": "stdout",
     "output_type": "stream",
     "text": [
      "[]\n"
     ]
    }
   ],
   "source": [
    "read_documents()\n",
    "print(str(vocabulary[0].documents))"
   ]
  },
  {
   "cell_type": "code",
   "execution_count": 64,
   "metadata": {
    "collapsed": false
   },
   "outputs": [
    {
     "ename": "SyntaxError",
     "evalue": "invalid syntax (<ipython-input-64-7d1812463cd5>, line 1)",
     "output_type": "error",
     "traceback": [
      "\u001b[1;36m  File \u001b[1;32m\"<ipython-input-64-7d1812463cd5>\"\u001b[1;36m, line \u001b[1;32m1\u001b[0m\n\u001b[1;33m    def\u001b[0m\n\u001b[1;37m        ^\u001b[0m\n\u001b[1;31mSyntaxError\u001b[0m\u001b[1;31m:\u001b[0m invalid syntax\n"
     ]
    }
   ],
   "source": [
    "def "
   ]
  },
  {
   "cell_type": "code",
   "execution_count": null,
   "metadata": {
    "collapsed": false
   },
   "outputs": [],
   "source": [
    "# update_this_document_topic_probability_by_looking_at_its_words_topics"
   ]
  },
  {
   "cell_type": "code",
   "execution_count": null,
   "metadata": {
    "collapsed": false
   },
   "outputs": [],
   "source": [
    "# update_this_word_topic_probability_by_looking_at_the_documents_topics_that_contain_the_word"
   ]
  },
  {
   "cell_type": "code",
   "execution_count": null,
   "metadata": {
    "collapsed": false
   },
   "outputs": [],
   "source": [
    "def classify_documents():\n",
    "    \n",
    "    for i in range(100):\n",
    "        for document in documents:\n",
    "            count_vector = [word.count for word in document.words]\n",
    "            for word in document.words:\n",
    "                word_distribution = dirichlet(count_vector + B_prior_topic_per_word_in_document)\n",
    "                for topic_index in range(K_topics):\n",
    "                    topic_probability = word_distribution.pdf(word)\n",
    "                    document.topics_probabilities[topic_index] = update_this_document_topic_probability(document.words)\n",
    "                    word.topics_probabilities[topic_index] = update_this_word_topic_probability()\n",
    "    return"
   ]
  }
 ],
 "metadata": {
  "kernelspec": {
   "display_name": "Python 3",
   "language": "python",
   "name": "python3"
  },
  "language_info": {
   "codemirror_mode": {
    "name": "ipython",
    "version": 3
   },
   "file_extension": ".py",
   "mimetype": "text/x-python",
   "name": "python",
   "nbconvert_exporter": "python",
   "pygments_lexer": "ipython3",
   "version": "3.5.1"
  }
 },
 "nbformat": 4,
 "nbformat_minor": 0
}
